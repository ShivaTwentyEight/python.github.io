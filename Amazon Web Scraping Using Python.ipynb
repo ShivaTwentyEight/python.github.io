{
 "cells": [
  {
   "cell_type": "markdown",
   "id": "a4e7df5c",
   "metadata": {},
   "source": [
    "\n",
    "# Amazon Web Scraping Using Python"
   ]
  },
  {
   "cell_type": "code",
   "execution_count": 5,
   "id": "c7105e03",
   "metadata": {},
   "outputs": [],
   "source": [
    "from bs4 import BeautifulSoup\n",
    "import requests\n",
    "import time\n",
    "import datetime\n",
    "\n",
    "import smtplib"
   ]
  },
  {
   "cell_type": "code",
   "execution_count": 9,
   "id": "8a46805f",
   "metadata": {},
   "outputs": [
    {
     "ename": "SyntaxError",
     "evalue": "invalid syntax (3657791370.py, line 11)",
     "output_type": "error",
     "traceback": [
      "\u001b[1;36m  Cell \u001b[1;32mIn[9], line 11\u001b[1;36m\u001b[0m\n\u001b[1;33m    price = Soup2.find(class = 'a-price-whole').get_text()\u001b[0m\n\u001b[1;37m                       ^\u001b[0m\n\u001b[1;31mSyntaxError\u001b[0m\u001b[1;31m:\u001b[0m invalid syntax\n"
     ]
    }
   ],
   "source": [
    "URL = 'https://www.amazon.in/gp/product/B0CHX1W1XY/ref=s9_bw_cg_Budget_6d1_w?pf_rd_m=AT95IG9ONZD7S&pf_rd_s=merchandised-search-11&pf_rd_r=6HTEQX403J6HAJETFZNP&pf_rd_t=101&pf_rd_p=9d9ec9e7-8026-48cc-84d1-59d3ef5f6d3a&pf_rd_i=1389401031&th=1'\n",
    "headers ={\"User-Agent\": \"Mozilla/5.0 (Windows NT 10.0; Win64; x64) AppleWebKit/537.36 (KHTML, like Gecko) Chrome/119.0.0.0 Safari/537.36\"}\n",
    "\n",
    "page = requests.get(URL, headers = headers)\n",
    "\n",
    "Soup1 = BeautifulSoup(page.content, \"html.parser\")\n",
    "Soup2 = BeautifulSoup(Soup1.prettify(), \"html.parser\")\n",
    "\n",
    "title = Soup2.find(id = 'productTitle').get_text()\n",
    "\n",
    "price = Soup2.find(class = 'a-price-whole').get_text()\n",
    "\n",
    "print(title)\n",
    "\n",
    "\n",
    "\n",
    "\n",
    "\n"
   ]
  },
  {
   "cell_type": "code",
   "execution_count": null,
   "id": "4f36d811",
   "metadata": {},
   "outputs": [],
   "source": []
  },
  {
   "cell_type": "code",
   "execution_count": null,
   "id": "dd73bed2",
   "metadata": {},
   "outputs": [],
   "source": []
  }
 ],
 "metadata": {
  "kernelspec": {
   "display_name": "Python 3 (ipykernel)",
   "language": "python",
   "name": "python3"
  },
  "language_info": {
   "codemirror_mode": {
    "name": "ipython",
    "version": 3
   },
   "file_extension": ".py",
   "mimetype": "text/x-python",
   "name": "python",
   "nbconvert_exporter": "python",
   "pygments_lexer": "ipython3",
   "version": "3.11.5"
  }
 },
 "nbformat": 4,
 "nbformat_minor": 5
}
