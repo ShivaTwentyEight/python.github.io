{
 "cells": [
  {
   "cell_type": "markdown",
   "id": "ba347fab",
   "metadata": {},
   "source": [
    "# Building an Automated File Sorter"
   ]
  },
  {
   "cell_type": "code",
   "execution_count": 17,
   "id": "e5e91e87",
   "metadata": {},
   "outputs": [],
   "source": [
    "import os, shutil"
   ]
  },
  {
   "cell_type": "code",
   "execution_count": 11,
   "id": "7fe7b40a",
   "metadata": {},
   "outputs": [],
   "source": [
    "#Showing path for the folder that the files need to be sorted\n",
    "path =  r\"C:/Users/SHIVA/Desktop/New folder/\""
   ]
  },
  {
   "cell_type": "code",
   "execution_count": 12,
   "id": "5dc36de1",
   "metadata": {},
   "outputs": [],
   "source": [
    "file_name = os.listdir(path)"
   ]
  },
  {
   "cell_type": "code",
   "execution_count": 15,
   "id": "b5c7b6e4",
   "metadata": {},
   "outputs": [
    {
     "name": "stdout",
     "output_type": "stream",
     "text": [
      "C:/Users/SHIVA/Desktop/New folder/image file\n"
     ]
    }
   ],
   "source": [
    "#Creating Seperate folders for sepeate type of files, if it is already not existing there.\n",
    "folder_names = ['csv file','image file', 'text file']\n",
    "\n",
    "for loop in range(0,3):\n",
    "    if not os.path.exists(path + folder_names[loop]):\n",
    "        print(path + folder_names[loop])\n",
    "        os.makedirs(path + folder_names[loop])\n",
    "    "
   ]
  },
  {
   "cell_type": "code",
   "execution_count": 16,
   "id": "116a01d5",
   "metadata": {},
   "outputs": [],
   "source": [
    "for file in file_name:\n",
    "    if \".csv\" in file and not os.path.exists(path + \"csv file/\" + file):\n",
    "        shutil.move(path+file, path + \"csv file/\" + file)\n",
    "    elif \".txt\" in file and not os.path.exists(path + \"text file/\" + file):\n",
    "        shutil.move(path+file, path + \"text file/\" + file)\n",
    "    elif \".png\" in file and not os.path.exists(path + \"image file/\" + file):\n",
    "        shutil.move(path+file, path + \"image file/\" + file)\n",
    "    "
   ]
  },
  {
   "cell_type": "code",
   "execution_count": null,
   "id": "a42acf81",
   "metadata": {},
   "outputs": [],
   "source": []
  },
  {
   "cell_type": "code",
   "execution_count": null,
   "id": "b444a1e2",
   "metadata": {},
   "outputs": [],
   "source": []
  },
  {
   "cell_type": "code",
   "execution_count": null,
   "id": "0fb755d0",
   "metadata": {},
   "outputs": [],
   "source": []
  },
  {
   "cell_type": "code",
   "execution_count": null,
   "id": "b62b539a",
   "metadata": {},
   "outputs": [],
   "source": []
  },
  {
   "cell_type": "code",
   "execution_count": null,
   "id": "66e1f5a5",
   "metadata": {},
   "outputs": [],
   "source": []
  },
  {
   "cell_type": "code",
   "execution_count": null,
   "id": "ccbad3ea",
   "metadata": {},
   "outputs": [],
   "source": []
  }
 ],
 "metadata": {
  "kernelspec": {
   "display_name": "Python 3 (ipykernel)",
   "language": "python",
   "name": "python3"
  },
  "language_info": {
   "codemirror_mode": {
    "name": "ipython",
    "version": 3
   },
   "file_extension": ".py",
   "mimetype": "text/x-python",
   "name": "python",
   "nbconvert_exporter": "python",
   "pygments_lexer": "ipython3",
   "version": "3.11.5"
  }
 },
 "nbformat": 4,
 "nbformat_minor": 5
}
