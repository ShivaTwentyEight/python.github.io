{
 "cells": [
  {
   "cell_type": "markdown",
   "id": "f872a05d",
   "metadata": {},
   "source": [
    "# Creating a BMI calculator"
   ]
  },
  {
   "cell_type": "code",
   "execution_count": null,
   "id": "06db3acf",
   "metadata": {},
   "outputs": [],
   "source": [
    "#BMI = weight(kg) / height(m^2)"
   ]
  },
  {
   "cell_type": "code",
   "execution_count": 2,
   "id": "ad4323e3",
   "metadata": {},
   "outputs": [
    {
     "name": "stdout",
     "output_type": "stream",
     "text": [
      "Enter your weight in kg. :58\n",
      "Enter your height in m. :1.68\n",
      "Your BMI is  20.549886621315196\n",
      "You are Normal-weight\n"
     ]
    }
   ],
   "source": [
    "\n",
    "weight = int( input('Enter your weight in kg. :') )\n",
    "height = float( input('Enter your height in m. :') )\n",
    "BMI = float(weight / (height*height) )\n",
    "\n",
    "print('Your BMI is ',BMI)\n",
    "\n",
    "if(BMI >0):\n",
    "    if(BMI<18.5):\n",
    "        print(\"You are Under-weight\")\n",
    "    elif(BMI<24.9):\n",
    "        print(\"You are Normal-weight\")\n",
    "    elif(BMI<29.9):\n",
    "        print(\"You are Over-weight\")\n",
    "    elif(BMI<34.9):\n",
    "        print(\"You are Obese\")\n",
    "    elif(BMI<39.9):\n",
    "        print(\"You are severly-Obese\")\n",
    "    else:\n",
    "        print(\"You are Morbidly Obese\")\n",
    "else:\n",
    "    print(\"please Enter valid inputs\")\n",
    "   \n",
    "\n",
    "\n"
   ]
  },
  {
   "cell_type": "code",
   "execution_count": null,
   "id": "abd7c27e",
   "metadata": {},
   "outputs": [],
   "source": []
  },
  {
   "cell_type": "code",
   "execution_count": null,
   "id": "27ae3fc5",
   "metadata": {},
   "outputs": [],
   "source": []
  },
  {
   "cell_type": "code",
   "execution_count": null,
   "id": "a3b904c2",
   "metadata": {},
   "outputs": [],
   "source": []
  },
  {
   "cell_type": "code",
   "execution_count": null,
   "id": "fe72f8fb",
   "metadata": {},
   "outputs": [],
   "source": []
  },
  {
   "cell_type": "code",
   "execution_count": null,
   "id": "de8f74a2",
   "metadata": {},
   "outputs": [],
   "source": []
  },
  {
   "cell_type": "code",
   "execution_count": null,
   "id": "793ceed7",
   "metadata": {},
   "outputs": [],
   "source": []
  }
 ],
 "metadata": {
  "kernelspec": {
   "display_name": "Python 3 (ipykernel)",
   "language": "python",
   "name": "python3"
  },
  "language_info": {
   "codemirror_mode": {
    "name": "ipython",
    "version": 3
   },
   "file_extension": ".py",
   "mimetype": "text/x-python",
   "name": "python",
   "nbconvert_exporter": "python",
   "pygments_lexer": "ipython3",
   "version": "3.11.5"
  }
 },
 "nbformat": 4,
 "nbformat_minor": 5
}
